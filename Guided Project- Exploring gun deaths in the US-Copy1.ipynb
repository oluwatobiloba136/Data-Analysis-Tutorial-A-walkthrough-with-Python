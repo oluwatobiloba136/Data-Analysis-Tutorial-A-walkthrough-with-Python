{
 "cells": [
  {
   "cell_type": "markdown",
   "metadata": {},
   "source": [
    "# Basic Data Analysis with Python Guided project\n",
    "## Mission:\n",
    "* __Walking through data analysis with Python without the use of Pandas library__\n",
    "### Project Name:\n",
    "> __Exploring gun deaths in the US__"
   ]
  },
  {
   "cell_type": "markdown",
   "metadata": {},
   "source": [
    "### Dataset details:\n",
    "* __Source__: The dataset came from [FiveThirtyEight](https://www.fivethirtyeight.com) and can be found [here](https://github.com/fivethirtyeight/guns-data)\n",
    "\n",
    "* __About__:\n",
    ">The dataset is stored in the `guns.csv` file<br>\n",
    ">It contains information on gun deaths in the US from `2012` to `2014`<br>\n",
    ">Each row in the dataset represents a single fatality.<br>\n",
    ">The columns contain demographic and other information about the victim.<br>\n",
    ">A total of 100798 rows.<br>\n",
    ">**To learn more about the dataset click [here](https://github.com/fivethirtyeight/guns-data)**\n",
    "\n",
    "* __Data Dictionary__:\n",
    "\n",
    "><ul>\n",
    "<li><code></code> -- this is an identifier column, which contains the row number.  It's common in CSV files to include a unique identifier for each row, but we can ignore it in this analysis.</li>\n",
    "<li><code>year</code> -- the year in which the fatality occurred.</li>\n",
    "<li><code>month</code> -- the month in which the fatality occurred.</li>\n",
    "<li><code>intent</code> -- the intent of the perpetrator of the crime.  This can be <code>Suicide</code>, <code>Accidental</code>, <code>NA</code>, <code>Homicide</code>, or <code>Undetermined</code>.</li>\n",
    "<li><code>police</code> -- whether a police officer was involved with the shooting.  Either <code>0</code> (false) or <code>1</code> (true).</li>\n",
    "<li><code>sex</code> -- the gender of the victim.  Either <code>M</code> or <code>F</code>.</li>\n",
    "<li><code>age</code> -- the age of the victim.</li>\n",
    "<li><code>race</code> -- the race of the victim.  Either <code>Asian/Pacific Islander</code>, <code>Native American/Native Alaskan</code>, <code>Black</code>, <code>Hispanic</code>, or <code>White</code>.</li>\n",
    "<li><code>hispanic</code> -- a code indicating the Hispanic origin of the victim.</li>\n",
    "<li><code>place</code> -- where the shooting occurred.  Has several categories, which you're encouraged to explore on your own.</li>\n",
    "<li><code>education</code> -- educational status of the victim.  Can be one of the following:<ul>\n",
    "<li><code>1</code> -- Less than High School</li>\n",
    "<li><code>2</code> -- Graduated from High School or equivalent</li>\n",
    "<li><code>3</code> -- Some College</li>\n",
    "<li><code>4</code> -- At least graduated from College</li>\n",
    "<li><code>5</code> -- Not available</li>\n",
    "</ul>\n",
    "</li>\n",
    "</ul>\n"
   ]
  },
  {
   "cell_type": "markdown",
   "metadata": {},
   "source": [
    "### Specific Objective:\n",
    "    In this project, we'll explore the dataset, and try to find patterns in the demographics of the victims."
   ]
  },
  {
   "cell_type": "markdown",
   "metadata": {},
   "source": [
    "__Action__: *Read in the dataset as list*"
   ]
  },
  {
   "cell_type": "code",
   "execution_count": 1,
   "metadata": {},
   "outputs": [],
   "source": [
    "import csv\n",
    "f = open('gun_death_full_data.csv')\n",
    "data = list(csv.reader(f))"
   ]
  },
  {
   "cell_type": "markdown",
   "metadata": {},
   "source": [
    "__Action__: *View your data*"
   ]
  },
  {
   "cell_type": "code",
   "execution_count": 2,
   "metadata": {},
   "outputs": [
    {
     "name": "stdout",
     "output_type": "stream",
     "text": [
      "[['', 'year', 'month', 'intent', 'police', 'sex', 'age', 'race', 'hispanic', 'place', 'education'], ['1', '2012', '01', 'Suicide', '0', 'M', '34', 'Asian/Pacific Islander', '100', 'Home', 'BA+'], ['2', '2012', '01', 'Suicide', '0', 'F', '21', 'White', '100', 'Street', 'Some college'], ['3', '2012', '01', 'Suicide', '0', 'M', '60', 'White', '100', 'Other specified', 'BA+'], ['4', '2012', '02', 'Suicide', '0', 'M', '64', 'White', '100', 'Home', 'BA+']]\n"
     ]
    }
   ],
   "source": [
    "print(data[:5])"
   ]
  },
  {
   "cell_type": "markdown",
   "metadata": {},
   "source": [
    "\n",
    "<h1> Question  #1: </h1>\n",
    "\n",
    "<b>From the above output, what did you notice?</b>\n",
    "\n",
    "    put your answer in the cell below"
   ]
  },
  {
   "cell_type": "markdown",
   "metadata": {},
   "source": []
  },
  {
   "cell_type": "markdown",
   "metadata": {},
   "source": [
    "__*Here's the answer:*__\n",
    "\n",
    "    The data is a list of list\n",
    "\n",
    "    The list at index 0 contains the header row\n"
   ]
  },
  {
   "cell_type": "markdown",
   "metadata": {},
   "source": [
    "__Action__: *Seperate the header from the data*"
   ]
  },
  {
   "cell_type": "code",
   "execution_count": 3,
   "metadata": {},
   "outputs": [],
   "source": [
    "header = data[0]\n",
    "data = data[1:]"
   ]
  },
  {
   "cell_type": "markdown",
   "metadata": {},
   "source": [
    "__Action__: *Review your new data*"
   ]
  },
  {
   "cell_type": "code",
   "execution_count": 4,
   "metadata": {},
   "outputs": [
    {
     "name": "stdout",
     "output_type": "stream",
     "text": [
      "[['1', '2012', '01', 'Suicide', '0', 'M', '34', 'Asian/Pacific Islander', '100', 'Home', 'BA+'], ['2', '2012', '01', 'Suicide', '0', 'F', '21', 'White', '100', 'Street', 'Some college'], ['3', '2012', '01', 'Suicide', '0', 'M', '60', 'White', '100', 'Other specified', 'BA+'], ['4', '2012', '02', 'Suicide', '0', 'M', '64', 'White', '100', 'Home', 'BA+'], ['5', '2012', '02', 'Suicide', '0', 'M', '31', 'White', '100', 'Other specified', 'HS/GED']]\n"
     ]
    }
   ],
   "source": [
    "print(data[:5])"
   ]
  },
  {
   "cell_type": "markdown",
   "metadata": {},
   "source": [
    "*The `year` column contains information on the year in which gun deaths occurred. <br>\n",
    "We can use this column to calculate how many gun deaths happened in each year.*"
   ]
  },
  {
   "cell_type": "markdown",
   "metadata": {},
   "source": [
    "__To do__:\n",
    ">Counting guns death by year"
   ]
  },
  {
   "cell_type": "markdown",
   "metadata": {},
   "source": [
    "__Action:__ *extract the year column*"
   ]
  },
  {
   "cell_type": "code",
   "execution_count": 5,
   "metadata": {},
   "outputs": [],
   "source": [
    "# list comprehension is used here, to learn about it, check the next cell \n",
    "years = [row[1] for row in data]"
   ]
  },
  {
   "cell_type": "markdown",
   "metadata": {},
   "source": [
    "###  \\*\\*\\*__Note:__ List comprehension was used above, to learn about it click [here](https://www.datacamp.com/community/tutorials/python-list-comprehension)"
   ]
  },
  {
   "cell_type": "markdown",
   "metadata": {},
   "source": [
    "__Action__: *obtain the number of year counts*"
   ]
  },
  {
   "cell_type": "code",
   "execution_count": 6,
   "metadata": {},
   "outputs": [],
   "source": [
    "#create a dictionary, then keeping count in the dictionary of how many times each element occurs in the year column.\n",
    "year_counts = {}\n",
    "for year in years:\n",
    "    if year in year_counts: year_counts[year]+= 1\n",
    "    else: year_counts[year] = 1    "
   ]
  },
  {
   "cell_type": "markdown",
   "metadata": {},
   "source": [
    "__Action:__ *Display `year_counts` to see how many gun deaths occur in each year.*"
   ]
  },
  {
   "cell_type": "code",
   "execution_count": 7,
   "metadata": {},
   "outputs": [
    {
     "data": {
      "text/plain": [
       "{'2012': 33563, '2013': 33636, '2014': 33599}"
      ]
     },
     "execution_count": 7,
     "metadata": {},
     "output_type": "execute_result"
    }
   ],
   "source": [
    "year_counts"
   ]
  },
  {
   "cell_type": "markdown",
   "metadata": {},
   "source": [
    "__To do:__\n",
    "> Exploring gun death by months and year"
   ]
  },
  {
   "cell_type": "markdown",
   "metadata": {},
   "source": [
    "*It looks like the number of gun deaths are very close for each year <br>\n",
    "Let's see if gun deaths in the US change by month and year.<br>\n",
    "In order to do this, we'll have to create a [`datetime.datetime`](https://docs.python.org/3/library/datetime.html#datetime-objects) object*\n"
   ]
  },
  {
   "cell_type": "markdown",
   "metadata": {},
   "source": [
    "__Action:__ *Import `datetime` module*"
   ]
  },
  {
   "cell_type": "code",
   "execution_count": 8,
   "metadata": {},
   "outputs": [],
   "source": [
    "import datetime"
   ]
  },
  {
   "cell_type": "code",
   "execution_count": 9,
   "metadata": {},
   "outputs": [],
   "source": [
    "# check the docstring for datetime class in the datetime module\n",
    "datetime.datetime?"
   ]
  },
  {
   "attachments": {
    "image.png": {
     "image/png": "[encoded data removed]"
    }
   },
   "cell_type": "markdown",
   "metadata": {},
   "source": [
    "![image.png](attachment:image.png)"
   ]
  },
  {
   "cell_type": "markdown",
   "metadata": {},
   "source": [
    "__Action:__ *convert year and month column to `datetime` type*"
   ]
  },
  {
   "cell_type": "code",
   "execution_count": 10,
   "metadata": {},
   "outputs": [],
   "source": [
    "# We'll specify a fixed day because day is not included in the data and it's a required argument\n",
    "dates = [datetime.datetime(year=int(row[1]),month=int(row[2]),day=1)  for row in data]"
   ]
  },
  {
   "cell_type": "markdown",
   "metadata": {},
   "source": [
    "__Action__: *View the `datetime` object created*"
   ]
  },
  {
   "cell_type": "code",
   "execution_count": 11,
   "metadata": {},
   "outputs": [
    {
     "data": {
      "text/plain": [
       "[datetime.datetime(2012, 1, 1, 0, 0),\n",
       " datetime.datetime(2012, 1, 1, 0, 0),\n",
       " datetime.datetime(2012, 1, 1, 0, 0),\n",
       " datetime.datetime(2012, 2, 1, 0, 0),\n",
       " datetime.datetime(2012, 2, 1, 0, 0)]"
      ]
     },
     "execution_count": 11,
     "metadata": {},
     "output_type": "execute_result"
    }
   ],
   "source": [
    "dates[:5]"
   ]
  },
  {
   "cell_type": "markdown",
   "metadata": {},
   "source": [
    "\n",
    "__Question  #2: __\n",
    "\n",
    "Obtain the number of gun death for each month\n",
    "\n",
    "    put your answer in the cell below"
   ]
  },
  {
   "cell_type": "code",
   "execution_count": null,
   "metadata": {},
   "outputs": [],
   "source": []
  },
  {
   "cell_type": "markdown",
   "metadata": {},
   "source": [
    "__*Here's the answer:*__\n",
    "\n",
    "    dates_counts = {}\n",
    "    for date in dates:\n",
    "        if date in dates_counts: dates_counts[date] += 1\n",
    "        else: dates_counts[date] = 1\n",
    "\n"
   ]
  },
  {
   "cell_type": "code",
   "execution_count": 14,
   "metadata": {
    "scrolled": true
   },
   "outputs": [
    {
     "data": {
      "text/plain": [
       "{datetime.datetime(2012, 1, 1, 0, 0): 2758,\n",
       " datetime.datetime(2012, 2, 1, 0, 0): 2357,\n",
       " datetime.datetime(2012, 3, 1, 0, 0): 2743,\n",
       " datetime.datetime(2012, 4, 1, 0, 0): 2795,\n",
       " datetime.datetime(2012, 5, 1, 0, 0): 2999,\n",
       " datetime.datetime(2012, 6, 1, 0, 0): 2826,\n",
       " datetime.datetime(2012, 7, 1, 0, 0): 3026,\n",
       " datetime.datetime(2012, 8, 1, 0, 0): 2954,\n",
       " datetime.datetime(2012, 9, 1, 0, 0): 2852,\n",
       " datetime.datetime(2012, 10, 1, 0, 0): 2733,\n",
       " datetime.datetime(2012, 11, 1, 0, 0): 2729,\n",
       " datetime.datetime(2012, 12, 1, 0, 0): 2791,\n",
       " datetime.datetime(2013, 1, 1, 0, 0): 2864,\n",
       " datetime.datetime(2013, 2, 1, 0, 0): 2375,\n",
       " datetime.datetime(2013, 3, 1, 0, 0): 2862,\n",
       " datetime.datetime(2013, 4, 1, 0, 0): 2798,\n",
       " datetime.datetime(2013, 5, 1, 0, 0): 2806,\n",
       " datetime.datetime(2013, 6, 1, 0, 0): 2920,\n",
       " datetime.datetime(2013, 7, 1, 0, 0): 3079,\n",
       " datetime.datetime(2013, 8, 1, 0, 0): 2859,\n",
       " datetime.datetime(2013, 9, 1, 0, 0): 2742,\n",
       " datetime.datetime(2013, 10, 1, 0, 0): 2808,\n",
       " datetime.datetime(2013, 11, 1, 0, 0): 2758,\n",
       " datetime.datetime(2013, 12, 1, 0, 0): 2765,\n",
       " datetime.datetime(2014, 1, 1, 0, 0): 2651,\n",
       " datetime.datetime(2014, 2, 1, 0, 0): 2361,\n",
       " datetime.datetime(2014, 3, 1, 0, 0): 2684,\n",
       " datetime.datetime(2014, 4, 1, 0, 0): 2862,\n",
       " datetime.datetime(2014, 5, 1, 0, 0): 2864,\n",
       " datetime.datetime(2014, 6, 1, 0, 0): 2931,\n",
       " datetime.datetime(2014, 7, 1, 0, 0): 2884,\n",
       " datetime.datetime(2014, 8, 1, 0, 0): 2970,\n",
       " datetime.datetime(2014, 9, 1, 0, 0): 2914,\n",
       " datetime.datetime(2014, 10, 1, 0, 0): 2865,\n",
       " datetime.datetime(2014, 11, 1, 0, 0): 2756,\n",
       " datetime.datetime(2014, 12, 1, 0, 0): 2857}"
      ]
     },
     "execution_count": 14,
     "metadata": {},
     "output_type": "execute_result"
    }
   ],
   "source": [
    "dates_counts"
   ]
  },
  {
   "cell_type": "markdown",
   "metadata": {},
   "source": [
    "__To Do:__\n",
    ">exploring gun death by sex and race"
   ]
  },
  {
   "cell_type": "markdown",
   "metadata": {},
   "source": [
    "__Action:__ *Obtain the number of death per sex and for each race*"
   ]
  },
  {
   "cell_type": "code",
   "execution_count": 12,
   "metadata": {},
   "outputs": [],
   "source": [
    "# Count up how many times each item in both column occurs.\n",
    "sex_counts = {}\n",
    "race_counts = {}\n",
    "sex_race_combined = [(row[5],row[7]) for row in data] # tuple unpacking is used here, to learn it, check the next cell\n",
    "for sex, race in sex_race_combined:\n",
    "    if sex in sex_counts: sex_counts[sex] += 1\n",
    "    else: sex_counts[sex] = 1\n",
    "    if race in race_counts: race_counts[race] += 1\n",
    "    else: race_counts[race] = 1"
   ]
  },
  {
   "cell_type": "markdown",
   "metadata": {},
   "source": [
    "###  \\*\\*\\*__Note:__ tuple unpacking was used inside the list comprehension above, to learn about it click [here](https://chrisalbon.com/python/basics/unpacking_a_tuple/)"
   ]
  },
  {
   "cell_type": "markdown",
   "metadata": {},
   "source": [
    "__Action:__ *Display number of gun death by sex*"
   ]
  },
  {
   "cell_type": "code",
   "execution_count": 13,
   "metadata": {},
   "outputs": [
    {
     "data": {
      "text/plain": [
       "{'F': 14449, 'M': 86349}"
      ]
     },
     "execution_count": 13,
     "metadata": {},
     "output_type": "execute_result"
    }
   ],
   "source": [
    "sex_counts"
   ]
  },
  {
   "cell_type": "markdown",
   "metadata": {},
   "source": [
    "__Action:__ *Display the number of gun death by race*"
   ]
  },
  {
   "cell_type": "code",
   "execution_count": 14,
   "metadata": {},
   "outputs": [
    {
     "data": {
      "text/plain": [
       "{'Asian/Pacific Islander': 1326,\n",
       " 'Black': 23296,\n",
       " 'Hispanic': 9022,\n",
       " 'Native American/Native Alaskan': 917,\n",
       " 'White': 66237}"
      ]
     },
     "execution_count": 14,
     "metadata": {},
     "output_type": "execute_result"
    }
   ],
   "source": [
    "race_counts"
   ]
  },
  {
   "cell_type": "markdown",
   "metadata": {},
   "source": [
    "__To Do:__\n",
    "> Obtain the categories of place shooting occured"
   ]
  },
  {
   "cell_type": "markdown",
   "metadata": {},
   "source": [
    "__Action__: *obtain the place column and get the unique value in the column*"
   ]
  },
  {
   "cell_type": "code",
   "execution_count": 15,
   "metadata": {},
   "outputs": [
    {
     "data": {
      "text/plain": [
       "{'Farm',\n",
       " 'Home',\n",
       " 'Industrial/construction',\n",
       " 'NA',\n",
       " 'Other specified',\n",
       " 'Other unspecified',\n",
       " 'Residential institution',\n",
       " 'School/instiution',\n",
       " 'Sports',\n",
       " 'Street',\n",
       " 'Trade/service area'}"
      ]
     },
     "execution_count": 15,
     "metadata": {},
     "output_type": "execute_result"
    }
   ],
   "source": [
    "places = [row[-2] for row in data]\n",
    "set(places)"
   ]
  },
  {
   "cell_type": "code",
   "execution_count": 16,
   "metadata": {},
   "outputs": [],
   "source": [
    "# get the docstring for the set function\n",
    "set?"
   ]
  },
  {
   "attachments": {
    "image.png": {
     "image/png": "[encoded data removed]"
    }
   },
   "cell_type": "markdown",
   "metadata": {},
   "source": [
    "![image.png](attachment:image.png)"
   ]
  },
  {
   "cell_type": "markdown",
   "metadata": {},
   "source": [
    "__Question  #3:__\n",
    "\n",
    "Obtain the number of gun death occured at each place\n",
    "\n",
    "    put your answer in the cell below"
   ]
  },
  {
   "cell_type": "code",
   "execution_count": null,
   "metadata": {},
   "outputs": [],
   "source": []
  },
  {
   "cell_type": "markdown",
   "metadata": {},
   "source": [
    "\n",
    "__*Your answer is below:*__\n",
    "\n",
    "    places_counts = {}\n",
    "    for place in places:\n",
    "        if place in places_counts: places_counts[place] += 1\n",
    "        else: places_counts[place] = 1\n",
    "\n",
    "\n",
    "\n"
   ]
  },
  {
   "cell_type": "markdown",
   "metadata": {},
   "source": [
    "__Question  #4:__ \n",
    "\n",
    "Which place has the lowest and highest recorded number of gun death?\n",
    "\n",
    "What can you write down about `NA`, `Other specified`, `Other unspecified`?\n",
    "\n",
    "    put your answer in the cell below"
   ]
  },
  {
   "cell_type": "markdown",
   "metadata": {},
   "source": []
  },
  {
   "cell_type": "markdown",
   "metadata": {},
   "source": [
    "__Your answer is below:__\n",
    "\n",
    "> ## Which place has the lowest and highest recorded number of gun death?\n",
    "    highest: Home\n",
    "    lowest: Sports\n",
    "\n",
    "> ## What can you write down about `NA`, `Other specified`, `Other unspecified`?\n",
    "    `NA` means not available, i.e the column was left empty for that particular record\n",
    "    `Other specified` may means other categories not included in the `place` column which was specified by the informant of that record\n",
    "    `Other unspecified` may means other categories not included in the `place` column which was not specified by the informant of that record\n",
    " \n",
    "\n"
   ]
  },
  {
   "cell_type": "markdown",
   "metadata": {},
   "source": [
    " __Question  #5:__\n",
    "\n",
    "Display the different unique age of those victim recorded?\n",
    "\n",
    "    put your answer in the cell below"
   ]
  },
  {
   "cell_type": "code",
   "execution_count": null,
   "metadata": {},
   "outputs": [],
   "source": []
  },
  {
   "cell_type": "markdown",
   "metadata": {},
   "source": [
    "__Your answer is below:__\n",
    "\n",
    "    ages = [row[-5] for row in data]\n",
    "    print(set(age))\n"
   ]
  },
  {
   "cell_type": "markdown",
   "metadata": {},
   "source": [
    "*From your output above, you can noticed that `0` is part of the age <br>\n",
    "This is unreasonable, we can conclude that age `0` should be consider as age `1`*\n"
   ]
  },
  {
   "cell_type": "markdown",
   "metadata": {},
   "source": [
    "__To Do:__\n",
    "> Add age `0` and age `1` values together as same in a dictionary"
   ]
  },
  {
   "cell_type": "markdown",
   "metadata": {},
   "source": [
    "__Action:__ *Obtain the number of age counts*"
   ]
  },
  {
   "cell_type": "code",
   "execution_count": 17,
   "metadata": {},
   "outputs": [],
   "source": [
    "ages = [row[-5] for row in data]\n",
    "age_counts = {}\n",
    "for age in ages:\n",
    "    if age in age_counts: age_counts[age] += 1\n",
    "    else: age_counts[age] = 1"
   ]
  },
  {
   "cell_type": "markdown",
   "metadata": {},
   "source": [
    "__Action:__ *View the age counts*"
   ]
  },
  {
   "cell_type": "code",
   "execution_count": 18,
   "metadata": {
    "scrolled": true
   },
   "outputs": [
    {
     "data": {
      "text/plain": [
       "{'0': 33,\n",
       " '1': 38,\n",
       " '10': 53,\n",
       " '100': 1,\n",
       " '101': 2,\n",
       " '102': 2,\n",
       " '107': 1,\n",
       " '11': 61,\n",
       " '12': 117,\n",
       " '13': 229,\n",
       " '14': 364,\n",
       " '15': 561,\n",
       " '16': 864,\n",
       " '17': 1185,\n",
       " '18': 1753,\n",
       " '19': 2065,\n",
       " '2': 50,\n",
       " '20': 2219,\n",
       " '21': 2504,\n",
       " '22': 2712,\n",
       " '23': 2472,\n",
       " '24': 2437,\n",
       " '25': 2230,\n",
       " '26': 2231,\n",
       " '27': 2070,\n",
       " '28': 1986,\n",
       " '29': 1955,\n",
       " '3': 66,\n",
       " '30': 1869,\n",
       " '31': 1833,\n",
       " '32': 1824,\n",
       " '33': 1700,\n",
       " '34': 1699,\n",
       " '35': 1631,\n",
       " '36': 1512,\n",
       " '37': 1500,\n",
       " '38': 1491,\n",
       " '39': 1389,\n",
       " '4': 54,\n",
       " '40': 1414,\n",
       " '41': 1485,\n",
       " '42': 1492,\n",
       " '43': 1527,\n",
       " '44': 1449,\n",
       " '45': 1372,\n",
       " '46': 1437,\n",
       " '47': 1532,\n",
       " '48': 1621,\n",
       " '49': 1669,\n",
       " '5': 43,\n",
       " '50': 1674,\n",
       " '51': 1755,\n",
       " '52': 1715,\n",
       " '53': 1708,\n",
       " '54': 1684,\n",
       " '55': 1596,\n",
       " '56': 1625,\n",
       " '57': 1472,\n",
       " '58': 1510,\n",
       " '59': 1430,\n",
       " '6': 50,\n",
       " '60': 1361,\n",
       " '61': 1306,\n",
       " '62': 1099,\n",
       " '63': 1041,\n",
       " '64': 1126,\n",
       " '65': 1039,\n",
       " '66': 998,\n",
       " '67': 865,\n",
       " '68': 868,\n",
       " '69': 879,\n",
       " '7': 43,\n",
       " '70': 883,\n",
       " '71': 791,\n",
       " '72': 736,\n",
       " '73': 737,\n",
       " '74': 671,\n",
       " '75': 676,\n",
       " '76': 582,\n",
       " '77': 575,\n",
       " '78': 598,\n",
       " '79': 573,\n",
       " '8': 32,\n",
       " '80': 546,\n",
       " '81': 563,\n",
       " '82': 520,\n",
       " '83': 552,\n",
       " '84': 490,\n",
       " '85': 440,\n",
       " '86': 407,\n",
       " '87': 312,\n",
       " '88': 340,\n",
       " '89': 245,\n",
       " '9': 47,\n",
       " '90': 208,\n",
       " '91': 176,\n",
       " '92': 128,\n",
       " '93': 103,\n",
       " '94': 64,\n",
       " '95': 55,\n",
       " '96': 40,\n",
       " '97': 20,\n",
       " '98': 16,\n",
       " '99': 6,\n",
       " 'NA': 18}"
      ]
     },
     "execution_count": 18,
     "metadata": {},
     "output_type": "execute_result"
    }
   ],
   "source": [
    "age_counts"
   ]
  },
  {
   "cell_type": "markdown",
   "metadata": {},
   "source": [
    "__Action__: *Remove the value of age `0` and add it to that of age `1`*"
   ]
  },
  {
   "cell_type": "code",
   "execution_count": 19,
   "metadata": {},
   "outputs": [],
   "source": [
    "age_zero_value = age_counts.pop('0') # pop builtin function was used here, check its docstring in the cell below\n",
    "age_counts['1'] = age_counts['1'] + age_zero_value"
   ]
  },
  {
   "cell_type": "code",
   "execution_count": 20,
   "metadata": {},
   "outputs": [],
   "source": [
    "age_counts.pop?"
   ]
  },
  {
   "attachments": {
    "image.png": {
     "image/png": "[encoded data removed]"
    }
   },
   "cell_type": "markdown",
   "metadata": {},
   "source": [
    "![image.png](attachment:image.png)"
   ]
  },
  {
   "cell_type": "markdown",
   "metadata": {},
   "source": [
    "__Action:__ *Review the age counts for the change*"
   ]
  },
  {
   "cell_type": "code",
   "execution_count": 21,
   "metadata": {
    "scrolled": true
   },
   "outputs": [
    {
     "data": {
      "text/plain": [
       "{'1': 71,\n",
       " '10': 53,\n",
       " '100': 1,\n",
       " '101': 2,\n",
       " '102': 2,\n",
       " '107': 1,\n",
       " '11': 61,\n",
       " '12': 117,\n",
       " '13': 229,\n",
       " '14': 364,\n",
       " '15': 561,\n",
       " '16': 864,\n",
       " '17': 1185,\n",
       " '18': 1753,\n",
       " '19': 2065,\n",
       " '2': 50,\n",
       " '20': 2219,\n",
       " '21': 2504,\n",
       " '22': 2712,\n",
       " '23': 2472,\n",
       " '24': 2437,\n",
       " '25': 2230,\n",
       " '26': 2231,\n",
       " '27': 2070,\n",
       " '28': 1986,\n",
       " '29': 1955,\n",
       " '3': 66,\n",
       " '30': 1869,\n",
       " '31': 1833,\n",
       " '32': 1824,\n",
       " '33': 1700,\n",
       " '34': 1699,\n",
       " '35': 1631,\n",
       " '36': 1512,\n",
       " '37': 1500,\n",
       " '38': 1491,\n",
       " '39': 1389,\n",
       " '4': 54,\n",
       " '40': 1414,\n",
       " '41': 1485,\n",
       " '42': 1492,\n",
       " '43': 1527,\n",
       " '44': 1449,\n",
       " '45': 1372,\n",
       " '46': 1437,\n",
       " '47': 1532,\n",
       " '48': 1621,\n",
       " '49': 1669,\n",
       " '5': 43,\n",
       " '50': 1674,\n",
       " '51': 1755,\n",
       " '52': 1715,\n",
       " '53': 1708,\n",
       " '54': 1684,\n",
       " '55': 1596,\n",
       " '56': 1625,\n",
       " '57': 1472,\n",
       " '58': 1510,\n",
       " '59': 1430,\n",
       " '6': 50,\n",
       " '60': 1361,\n",
       " '61': 1306,\n",
       " '62': 1099,\n",
       " '63': 1041,\n",
       " '64': 1126,\n",
       " '65': 1039,\n",
       " '66': 998,\n",
       " '67': 865,\n",
       " '68': 868,\n",
       " '69': 879,\n",
       " '7': 43,\n",
       " '70': 883,\n",
       " '71': 791,\n",
       " '72': 736,\n",
       " '73': 737,\n",
       " '74': 671,\n",
       " '75': 676,\n",
       " '76': 582,\n",
       " '77': 575,\n",
       " '78': 598,\n",
       " '79': 573,\n",
       " '8': 32,\n",
       " '80': 546,\n",
       " '81': 563,\n",
       " '82': 520,\n",
       " '83': 552,\n",
       " '84': 490,\n",
       " '85': 440,\n",
       " '86': 407,\n",
       " '87': 312,\n",
       " '88': 340,\n",
       " '89': 245,\n",
       " '9': 47,\n",
       " '90': 208,\n",
       " '91': 176,\n",
       " '92': 128,\n",
       " '93': 103,\n",
       " '94': 64,\n",
       " '95': 55,\n",
       " '96': 40,\n",
       " '97': 20,\n",
       " '98': 16,\n",
       " '99': 6,\n",
       " 'NA': 18}"
      ]
     },
     "execution_count": 21,
     "metadata": {},
     "output_type": "execute_result"
    }
   ],
   "source": [
    "age_counts"
   ]
  },
  {
   "cell_type": "markdown",
   "metadata": {},
   "source": [
    "__Action:__ *Review race counts and sex counts obtained earlier*"
   ]
  },
  {
   "cell_type": "code",
   "execution_count": 22,
   "metadata": {},
   "outputs": [
    {
     "name": "stdout",
     "output_type": "stream",
     "text": [
      "{'M': 86349, 'F': 14449}\n"
     ]
    },
    {
     "data": {
      "text/plain": [
       "{'Asian/Pacific Islander': 1326,\n",
       " 'Black': 23296,\n",
       " 'Hispanic': 9022,\n",
       " 'Native American/Native Alaskan': 917,\n",
       " 'White': 66237}"
      ]
     },
     "execution_count": 22,
     "metadata": {},
     "output_type": "execute_result"
    }
   ],
   "source": [
    "print(sex_counts)\n",
    "race_counts"
   ]
  },
  {
   "cell_type": "markdown",
   "metadata": {},
   "source": [
    "__To Do:__\n",
    "> Obtain the number of death recorded for male, white race"
   ]
  },
  {
   "cell_type": "code",
   "execution_count": 23,
   "metadata": {},
   "outputs": [],
   "source": [
    "# loop over the tuple  and check whether the sex is Male and the race is White\n",
    "male_white_counts = 0\n",
    "for sex, race in sex_race_combined:\n",
    "    if sex == 'M' and race == 'White': male_white_counts += 1"
   ]
  },
  {
   "cell_type": "code",
   "execution_count": 24,
   "metadata": {},
   "outputs": [
    {
     "name": "stdout",
     "output_type": "stream",
     "text": [
      "The number of fatality the involved a white male US citizen is 55550\n"
     ]
    }
   ],
   "source": [
    "print('The number of fatality the involved a white male US citizen is', male_white_counts)"
   ]
  },
  {
   "cell_type": "markdown",
   "metadata": {},
   "source": [
    "*__Almost half of the fatality recorded involved a white male victim__*"
   ]
  },
  {
   "cell_type": "markdown",
   "metadata": {},
   "source": [
    " __Question  #6:__\n",
    "\n",
    "Obtain the number of fatality that is accidental and involved a police officer?\n",
    "\n",
    "Write a comment about your answer\n",
    "\n",
    "    put your answer in the cell below"
   ]
  },
  {
   "cell_type": "code",
   "execution_count": null,
   "metadata": {},
   "outputs": [],
   "source": []
  },
  {
   "cell_type": "markdown",
   "metadata": {},
   "source": [
    "__Check the answer here:__\n",
    "\n",
    "\n",
    "\n",
    "> ### obtain the  different categories for the intent column\n",
    "intent = [row[3] for row in data]\n",
    "set(intent)\n",
    "\n",
    "> ### obtain the police column\n",
    "is_police = [row[4] for row in data]\n",
    "\n",
    "> ### combined the intent and police column for each row\n",
    "police_intent_combined = [(row[4],row[3]) for row in data]\n",
    "\n",
    "> ### check wheter a police is involved for every accidental case\n",
    "accidental_discharge = 0\n",
    "for pol,intent in police_intent_combined:\n",
    "    if pol == '1' and intent == 'Accidental':\n",
    "        accidental_discharge += 1\n",
    "\n",
    "> ### Comment\n",
    "No police officer is involved in any accidental gun death \n",
    "\n",
    "\n"
   ]
  },
  {
   "cell_type": "markdown",
   "metadata": {},
   "source": [
    "__To Do__:\n",
    "> Does gun death peaks or decline with seasons?"
   ]
  },
  {
   "cell_type": "markdown",
   "metadata": {},
   "source": [
    "__Action:__ *Review the dates column extracted earlier*"
   ]
  },
  {
   "cell_type": "code",
   "execution_count": 25,
   "metadata": {},
   "outputs": [
    {
     "data": {
      "text/plain": [
       "[datetime.datetime(2012, 1, 1, 0, 0),\n",
       " datetime.datetime(2012, 1, 1, 0, 0),\n",
       " datetime.datetime(2012, 1, 1, 0, 0),\n",
       " datetime.datetime(2012, 2, 1, 0, 0),\n",
       " datetime.datetime(2012, 2, 1, 0, 0)]"
      ]
     },
     "execution_count": 25,
     "metadata": {},
     "output_type": "execute_result"
    }
   ],
   "source": [
    "dates[:5]"
   ]
  },
  {
   "cell_type": "markdown",
   "metadata": {},
   "source": [
    "__Action:__ *Get the number of fatality for each season(summer and winter)*\n",
    "#### \\*\\*\\*Note: summer is from June 21 - Sept 23; winter is from Dec 21 - Mar 20"
   ]
  },
  {
   "cell_type": "code",
   "execution_count": 26,
   "metadata": {},
   "outputs": [],
   "source": [
    "summer_counts, winter_counts = 0,0\n",
    "for date in dates:\n",
    "    if date.month in range(6,10):\n",
    "        summer_counts += 1\n",
    "    if date.month in [12,1,2,3]:\n",
    "        winter_counts += 1"
   ]
  },
  {
   "cell_type": "code",
   "execution_count": 27,
   "metadata": {},
   "outputs": [
    {
     "data": {
      "text/plain": [
       "'summer counts:34957, winter counts:32068'"
      ]
     },
     "execution_count": 27,
     "metadata": {},
     "output_type": "execute_result"
    }
   ],
   "source": [
    "'summer counts:{}, winter counts:{}'.format(summer_counts,winter_counts)"
   ]
  },
  {
   "cell_type": "markdown",
   "metadata": {},
   "source": [
    "__Gun deaths peaks up in the summer than the winter but there appears to be a minor seasonal correlation, with gun deaths peaking in the summer and declining in the winter.__"
   ]
  },
  {
   "cell_type": "markdown",
   "metadata": {},
   "source": [
    "__To Do__:\n",
    ">__What is the rate of gun deaths per `100,000` people of each race?__"
   ]
  },
  {
   "cell_type": "markdown",
   "metadata": {},
   "source": [
    "*To achieve this, the data must be related to the population distribution of the US*"
   ]
  },
  {
   "cell_type": "markdown",
   "metadata": {},
   "source": [
    "__Action:__ *import US census data* (the dataset is included with this notebook)"
   ]
  },
  {
   "cell_type": "code",
   "execution_count": 28,
   "metadata": {},
   "outputs": [
    {
     "name": "stdout",
     "output_type": "stream",
     "text": [
      "[['Id', 'Year', 'Id', 'Sex', 'Id', 'Hispanic Origin', 'Id', 'Id2', 'Geography', 'Total', 'Race Alone - White', 'Race Alone - Hispanic', 'Race Alone - Black or African American', 'Race Alone - American Indian and Alaska Native', 'Race Alone - Asian', 'Race Alone - Native Hawaiian and Other Pacific Islander', 'Two or More Races'], ['cen42010', 'April 1, 2010 Census', 'totsex', 'Both Sexes', 'tothisp', 'Total', '0100000US', '', 'United States', '308745538', '197318956', '44618105', '40250635', '3739506', '15159516', '674625', '6984195']]\n"
     ]
    }
   ],
   "source": [
    "census = list(csv.reader(open('census.csv')))\n",
    "print(census)"
   ]
  },
  {
   "cell_type": "markdown",
   "metadata": {},
   "source": [
    "__Action:__ *Extract the racial category of the census dataset*"
   ]
  },
  {
   "cell_type": "code",
   "execution_count": 29,
   "metadata": {},
   "outputs": [],
   "source": [
    "census_counts = {}\n",
    "for idx,col in enumerate(census[0][10:16], 10): # enumerate function, check its docstring in the next cell\n",
    "    census_counts[col] = census[1][idx]"
   ]
  },
  {
   "cell_type": "code",
   "execution_count": 30,
   "metadata": {},
   "outputs": [],
   "source": [
    "enumerate?"
   ]
  },
  {
   "attachments": {
    "image.png": {
     "image/png": "[encoded data removed]"
    }
   },
   "cell_type": "markdown",
   "metadata": {},
   "source": [
    "![image.png](attachment:image.png)"
   ]
  },
  {
   "cell_type": "markdown",
   "metadata": {},
   "source": [
    "__Action:__ *View the racial category obtained*"
   ]
  },
  {
   "cell_type": "code",
   "execution_count": 31,
   "metadata": {},
   "outputs": [
    {
     "data": {
      "text/plain": [
       "{'Race Alone - American Indian and Alaska Native': '3739506',\n",
       " 'Race Alone - Asian': '15159516',\n",
       " 'Race Alone - Black or African American': '40250635',\n",
       " 'Race Alone - Hispanic': '44618105',\n",
       " 'Race Alone - Native Hawaiian and Other Pacific Islander': '674625',\n",
       " 'Race Alone - White': '197318956'}"
      ]
     },
     "execution_count": 31,
     "metadata": {},
     "output_type": "execute_result"
    }
   ],
   "source": [
    "census_counts"
   ]
  },
  {
   "cell_type": "markdown",
   "metadata": {},
   "source": [
    "*We can notice that the racial categories are named slightly differently in census and in data.*\n",
    "\n",
    "*We'll need to manually construct a dictionary that allows us to map between them, and perform the division.*"
   ]
  },
  {
   "cell_type": "code",
   "execution_count": 32,
   "metadata": {},
   "outputs": [
    {
     "data": {
      "text/plain": [
       "['Asian/Pacific Islander',\n",
       " 'White',\n",
       " 'Native American/Native Alaskan',\n",
       " 'Black',\n",
       " 'Hispanic']"
      ]
     },
     "execution_count": 32,
     "metadata": {},
     "output_type": "execute_result"
    }
   ],
   "source": [
    "key = list(race_counts.keys())\n",
    "key"
   ]
  },
  {
   "cell_type": "markdown",
   "metadata": {},
   "source": [
    "<p>Here's a list of the race name in <code>data</code>, and the corresponding race name in <code>census</code>:</p>\n",
    "<ul>\n",
    "<li><code>Asian/Pacific Islander</code> -- <code>Race Alone - Asian</code> plus <code>Race Alone - Native Hawaiian and Other Pacific Islander</code>.</li>\n",
    "<li><code>Black</code> -- <code>Race Alone - Black or African American</code>.</li>\n",
    "<li><code>Hispanic</code> -- <code>Race Alone - Hispanic</code></li>\n",
    "<li><code>Native American/Native Alaskan</code> -- <code>Race Alone - American Indian and Alaska Native</code></li>\n",
    "<li><code>White</code> -- <code>Race Alone - White</code></li>\n",
    "</ul>"
   ]
  },
  {
   "cell_type": "code",
   "execution_count": 33,
   "metadata": {},
   "outputs": [],
   "source": [
    "mapping = {\n",
    "    key[0]:15159516+674625,\n",
    "    key[1]:197318956,\n",
    "    key[2]:3739506,\n",
    "    key[3]:40250635,\n",
    "    key[4]:44618105\n",
    "}"
   ]
  },
  {
   "cell_type": "code",
   "execution_count": 34,
   "metadata": {},
   "outputs": [
    {
     "data": {
      "text/plain": [
       "{'Asian/Pacific Islander': 15834141,\n",
       " 'Black': 40250635,\n",
       " 'Hispanic': 44618105,\n",
       " 'Native American/Native Alaskan': 3739506,\n",
       " 'White': 197318956}"
      ]
     },
     "execution_count": 34,
     "metadata": {},
     "output_type": "execute_result"
    }
   ],
   "source": [
    "mapping"
   ]
  },
  {
   "cell_type": "markdown",
   "metadata": {},
   "source": [
    "The mathematical equation to compute the rate of gun death per race is<br>\n",
    "$$ \n",
    "rate = \\frac{\\text{gun death recorded for the race}}{\\text{population of the race}} \n",
    "$$"
   ]
  },
  {
   "cell_type": "markdown",
   "metadata": {},
   "source": [
    "#### \\*\\*\\*Note: The mathematical equation above was written with LaTex, click [here](https://www.overleaf.com/latex/templates/a-quick-guide-to-latex/fghqpfgnxggz#.W4KjmOhKi02) for a quick guide"
   ]
  },
  {
   "cell_type": "markdown",
   "metadata": {},
   "source": [
    "__Action:__ *compute the rate per `100,000` per race*"
   ]
  },
  {
   "cell_type": "code",
   "execution_count": 35,
   "metadata": {},
   "outputs": [],
   "source": [
    "race_per_hundredk = {key:(value/mapping[key])*100000 for key,value in race_counts.items()}"
   ]
  },
  {
   "cell_type": "markdown",
   "metadata": {},
   "source": [
    "#### \\*\\*\\*Note: dictionary comphrension was used above, learn more about it [here](https://www.datacamp.com/community/tutorials/python-dictionary-comprehension)"
   ]
  },
  {
   "cell_type": "markdown",
   "metadata": {},
   "source": [
    "__Action:__ *View your result*"
   ]
  },
  {
   "cell_type": "code",
   "execution_count": 36,
   "metadata": {},
   "outputs": [
    {
     "data": {
      "text/plain": [
       "{'Asian/Pacific Islander': 8.374309664161762,\n",
       " 'Black': 57.8773477735196,\n",
       " 'Hispanic': 20.220491210910907,\n",
       " 'Native American/Native Alaskan': 24.521955573811088,\n",
       " 'White': 33.56849303419181}"
      ]
     },
     "execution_count": 36,
     "metadata": {},
     "output_type": "execute_result"
    }
   ],
   "source": [
    "race_per_hundredk"
   ]
  },
  {
   "cell_type": "markdown",
   "metadata": {},
   "source": [
    "* __Interpretation/Implication of our results__:\n",
    "> About `8` of every `100,000` Asians are involved in gun death<br>\n",
    "> Almost `58` of every `100,000` Black<br>\n",
    "> About `20` of every `100,000` Hispanic<br>\n",
    "> Almost `25` of every `100,000` Native America<br>\n",
    "> Nearly `34` of every `100,000` White"
   ]
  },
  {
   "cell_type": "markdown",
   "metadata": {},
   "source": [
    "__To Do:__\n",
    "> What is the correlation of different categories of gun death with gender, race or age "
   ]
  },
  {
   "cell_type": "markdown",
   "metadata": {},
   "source": [
    "__Action__:*Obtain the different categories of gun death*"
   ]
  },
  {
   "cell_type": "code",
   "execution_count": 37,
   "metadata": {},
   "outputs": [
    {
     "data": {
      "text/plain": [
       "{'Accidental', 'Homicide', 'NA', 'Suicide', 'Undetermined'}"
      ]
     },
     "execution_count": 37,
     "metadata": {},
     "output_type": "execute_result"
    }
   ],
   "source": [
    "intents = [row[3] for row in data]\n",
    "set(intents)"
   ]
  },
  {
   "cell_type": "markdown",
   "metadata": {},
   "source": [
    "__Action__: *What is the number of counts per intent*"
   ]
  },
  {
   "cell_type": "markdown",
   "metadata": {},
   "source": [
    " __Question  #7:__\n",
    "\n",
    "Obtain the number of counts per intent?\n",
    "\n",
    "Write a comment on your result\n",
    "\n",
    "\n",
    "    put your answer in the cell below"
   ]
  },
  {
   "cell_type": "code",
   "execution_count": null,
   "metadata": {},
   "outputs": [],
   "source": []
  },
  {
   "cell_type": "markdown",
   "metadata": {},
   "source": [
    "\n",
    "__Check the solution below:__\n",
    "\n",
    "    intents_counts = {}\n",
    "    for intent in intents:\n",
    "        if intent in intents_counts:\n",
    "            intents_counts[intent] += 1\n",
    "        else: intents_counts[intent] = 1\n",
    "    \n"
   ]
  },
  {
   "cell_type": "code",
   "execution_count": 41,
   "metadata": {},
   "outputs": [
    {
     "data": {
      "text/plain": [
       "{'Accidental': 1639,\n",
       " 'Homicide': 35176,\n",
       " 'NA': 1,\n",
       " 'Suicide': 63175,\n",
       " 'Undetermined': 807}"
      ]
     },
     "execution_count": 41,
     "metadata": {},
     "output_type": "execute_result"
    }
   ],
   "source": [
    "intents_counts"
   ]
  },
  {
   "cell_type": "markdown",
   "metadata": {},
   "source": [
    "*From our result above, we can conclude*\n",
    ">Suicide related gun death takes the lead,<br>\n",
    ">Then follow by homicide by almost half of its value<br>\n",
    ">The value for accidental is relatively low"
   ]
  },
  {
   "cell_type": "markdown",
   "metadata": {},
   "source": [
    "__To Do:__\n",
    ">what the gun-related murder rate per `100,000` people in each racial category is?"
   ]
  },
  {
   "cell_type": "markdown",
   "metadata": {},
   "source": [
    "__Action:__ *Obtain the race column*"
   ]
  },
  {
   "cell_type": "code",
   "execution_count": 42,
   "metadata": {},
   "outputs": [],
   "source": [
    "races = [row[7] for row in data]"
   ]
  },
  {
   "cell_type": "markdown",
   "metadata": {},
   "source": [
    "__Action__: *Obtain the number of `Homicide` case per race*"
   ]
  },
  {
   "cell_type": "code",
   "execution_count": 43,
   "metadata": {},
   "outputs": [],
   "source": [
    "homicide_race_counts = {}\n",
    "for i,race in enumerate(races):\n",
    "    # first, create each race in the dictionary\n",
    "        if race not in homicide_race_counts:\n",
    "            homicide_race_counts[race] = 0\n",
    "            # check if the case is homicide\n",
    "        if intents[i] == 'Homicide':\n",
    "            homicide_race_counts[race] += 1\n",
    "    "
   ]
  },
  {
   "cell_type": "markdown",
   "metadata": {},
   "source": [
    "__Action:__ *View the result*"
   ]
  },
  {
   "cell_type": "code",
   "execution_count": 44,
   "metadata": {},
   "outputs": [
    {
     "data": {
      "text/plain": [
       "{'Asian/Pacific Islander': 559,\n",
       " 'Black': 19510,\n",
       " 'Hispanic': 5634,\n",
       " 'Native American/Native Alaskan': 326,\n",
       " 'White': 9147}"
      ]
     },
     "execution_count": 44,
     "metadata": {},
     "output_type": "execute_result"
    }
   ],
   "source": [
    "homicide_race_counts"
   ]
  },
  {
   "cell_type": "markdown",
   "metadata": {},
   "source": [
    "__Action__: *What is the total number of homicide cases*"
   ]
  },
  {
   "cell_type": "code",
   "execution_count": 45,
   "metadata": {},
   "outputs": [
    {
     "data": {
      "text/plain": [
       "35176"
      ]
     },
     "execution_count": 45,
     "metadata": {},
     "output_type": "execute_result"
    }
   ],
   "source": [
    "homicide_total = sum(homicide_race_counts.values())\n",
    "homicide_total"
   ]
  },
  {
   "cell_type": "markdown",
   "metadata": {},
   "source": [
    " __Question  #8:__\n",
    "\n",
    "**Obtain the number of `Suicide` cases per race?**\n",
    "\n",
    "**What is the total `Suicide` case recorded?**\n",
    "\n",
    "\n",
    "    put your answer in the cell below"
   ]
  },
  {
   "cell_type": "code",
   "execution_count": null,
   "metadata": {},
   "outputs": [],
   "source": []
  },
  {
   "cell_type": "markdown",
   "metadata": {},
   "source": [
    "__Check the solution below:__\n",
    "\n",
    "\n",
    "> #### Obtain the number of `Suicide` cases per race?\n",
    "    suicide_race_counts = {}\n",
    "    for i,race in enumerate(races):\n",
    "            if race not in suicide_race_counts:\n",
    "                suicide_race_counts[race] = 0\n",
    "            if intents[i] == 'Suicide':\n",
    "                suicide_race_counts[race] += 1\n",
    "> #### What is the total `Suicide` case recorded?\n",
    "    sum(suicide_race_counts.values())\n",
    "\n"
   ]
  },
  {
   "cell_type": "markdown",
   "metadata": {},
   "source": [
    "__To Do:__\n",
    ">What is the percentage of black homicide case out of the homicide"
   ]
  },
  {
   "cell_type": "markdown",
   "metadata": {},
   "source": [
    "__Action:__ *Create a function that find the percentage of the first input in the second*"
   ]
  },
  {
   "cell_type": "markdown",
   "metadata": {},
   "source": [
    "Learn more about function [here](https://chrisalbon.com/python/basics/function_basics/)"
   ]
  },
  {
   "cell_type": "code",
   "execution_count": 46,
   "metadata": {},
   "outputs": [],
   "source": [
    "def percent(x,y):\n",
    "    rst = (x/y)*100.0\n",
    "    return '{:.2f}%'.format(rst) # or use round function"
   ]
  },
  {
   "cell_type": "markdown",
   "metadata": {},
   "source": [
    "__Action__: *Get the value of homicide that involved black*"
   ]
  },
  {
   "cell_type": "code",
   "execution_count": 47,
   "metadata": {},
   "outputs": [],
   "source": [
    "homicide_black = homicide_race_counts.get('Black')"
   ]
  },
  {
   "cell_type": "markdown",
   "metadata": {},
   "source": [
    "__Action:__ *Get the percentage*"
   ]
  },
  {
   "cell_type": "code",
   "execution_count": 48,
   "metadata": {},
   "outputs": [
    {
     "name": "stdout",
     "output_type": "stream",
     "text": [
      "The percentage of black homicide case out of the homicide is 55.46%\n"
     ]
    }
   ],
   "source": [
    "black_percent = percent(homicide_black,homicide_total)\n",
    "print('The percentage of black homicide '\n",
    "      'case out of the homicide is',black_percent) "
   ]
  },
  {
   "cell_type": "markdown",
   "metadata": {},
   "source": [
    "*From our result, it show that more than half of homicide case involve a `Black` despite that half of all the gun death involved a `white`*\n",
    "\n",
    "\\*\\*__This call for action__"
   ]
  },
  {
   "cell_type": "markdown",
   "metadata": {},
   "source": [
    "__Action:__ *Obtain the proportion of death a `Black` is involved* "
   ]
  },
  {
   "cell_type": "code",
   "execution_count": 49,
   "metadata": {},
   "outputs": [
    {
     "data": {
      "text/plain": [
       "{'Accidental': 328,\n",
       " 'Homicide': 19510,\n",
       " 'NA': 0,\n",
       " 'Suicide': 3332,\n",
       " 'Undetermined': 126}"
      ]
     },
     "execution_count": 49,
     "metadata": {},
     "output_type": "execute_result"
    }
   ],
   "source": [
    "cases_by_black = {}\n",
    "for i, intent in enumerate(intents):\n",
    "    if intent not in cases_by_black:\n",
    "        cases_by_black[intent] = 0\n",
    "    if races[i] == 'Black':\n",
    "        cases_by_black[intent] += 1\n",
    "cases_by_black"
   ]
  },
  {
   "cell_type": "markdown",
   "metadata": {},
   "source": [
    "__Action:__ *Get the percentage of death that involved `Black` and is `Homicide`*"
   ]
  },
  {
   "cell_type": "code",
   "execution_count": 50,
   "metadata": {},
   "outputs": [
    {
     "name": "stdout",
     "output_type": "stream",
     "text": [
      "The percentage of black homicide case out of the case that involved black is 83.75%\n"
     ]
    }
   ],
   "source": [
    "black_and_homicide = cases_by_black.get('Homicide')\n",
    "black_total = sum(cases_by_black.values())\n",
    "print('The percentage of black homicide case out '\n",
    "      'of the case that involved black is',\n",
    "     percent(black_and_homicide,black_total))\n"
   ]
  },
  {
   "cell_type": "markdown",
   "metadata": {},
   "source": [
    "__Action:__ *Get the murder rate per `100,000` people in each racial category*"
   ]
  },
  {
   "cell_type": "code",
   "execution_count": 51,
   "metadata": {},
   "outputs": [
    {
     "data": {
      "text/plain": [
       "{'Asian/Pacific Islander': 3.53,\n",
       " 'Black': 48.47,\n",
       " 'Hispanic': 12.63,\n",
       " 'Native American/Native Alaskan': 8.72,\n",
       " 'White': 4.64}"
      ]
     },
     "execution_count": 51,
     "metadata": {},
     "output_type": "execute_result"
    }
   ],
   "source": [
    "race_per_hundredk = {}\n",
    "for k,v in homicide_race_counts.items():\n",
    "    race_per_hundredk[k] = round((v / mapping[k]) * 100000,2)\n",
    "\n",
    "race_per_hundredk"
   ]
  },
  {
   "cell_type": "markdown",
   "metadata": {},
   "source": [
    "*It is seen that nearly `50` out of`100,000` black were murdered*"
   ]
  },
  {
   "cell_type": "markdown",
   "metadata": {},
   "source": [
    "__To Do__:\n",
    "> How many black women are murdered out of `100,000` black?"
   ]
  },
  {
   "cell_type": "markdown",
   "metadata": {},
   "source": [
    "__Action__: *Obtain the number of female that are murdered per race*"
   ]
  },
  {
   "cell_type": "code",
   "execution_count": 52,
   "metadata": {},
   "outputs": [],
   "source": [
    "sex = [row[5] for row in data]\n",
    "homicide_race_counts_f = {}\n",
    "for i,race in enumerate(races):\n",
    "    # first, create each race in the dictionary\n",
    "        if race not in homicide_race_counts_f:\n",
    "            homicide_race_counts_f[race] = 0\n",
    "            # check if the case is homicide\n",
    "        if intents[i] == 'Homicide' and sex[i] == 'F':\n",
    "            homicide_race_counts_f[race] += 1\n",
    "    "
   ]
  },
  {
   "cell_type": "code",
   "execution_count": 53,
   "metadata": {},
   "outputs": [
    {
     "data": {
      "text/plain": [
       "{'Asian/Pacific Islander': 140,\n",
       " 'Black': 1898,\n",
       " 'Hispanic': 695,\n",
       " 'Native American/Native Alaskan': 60,\n",
       " 'White': 2580}"
      ]
     },
     "execution_count": 53,
     "metadata": {},
     "output_type": "execute_result"
    }
   ],
   "source": [
    "homicide_race_counts_f"
   ]
  },
  {
   "cell_type": "markdown",
   "metadata": {},
   "source": [
    "__Action:__ *Percentage of female black out of black murdered?*"
   ]
  },
  {
   "cell_type": "code",
   "execution_count": 54,
   "metadata": {},
   "outputs": [
    {
     "data": {
      "text/plain": [
       "'9.73%'"
      ]
     },
     "execution_count": 54,
     "metadata": {},
     "output_type": "execute_result"
    }
   ],
   "source": [
    "per_f_hom = (percent(\n",
    "    homicide_race_counts_f.get('Black'),\n",
    "    homicide_race_counts.get('Black')))\n",
    "per_f_hom"
   ]
  },
  {
   "cell_type": "markdown",
   "metadata": {},
   "source": [
    "__Action:__ * Get the number of black women murdered out of `50` black?*"
   ]
  },
  {
   "cell_type": "code",
   "execution_count": 55,
   "metadata": {},
   "outputs": [
    {
     "data": {
      "text/plain": [
       "4.865"
      ]
     },
     "execution_count": 55,
     "metadata": {},
     "output_type": "execute_result"
    }
   ],
   "source": [
    "float(per_f_hom.replace('%',''))/100 * 50"
   ]
  },
  {
   "cell_type": "markdown",
   "metadata": {},
   "source": [
    "*About `5` out of the `50` are female*"
   ]
  },
  {
   "cell_type": "markdown",
   "metadata": {},
   "source": [
    "### Further step"
   ]
  },
  {
   "cell_type": "markdown",
   "metadata": {},
   "source": [
    "<p>Here are some potential next steps:</p>\n",
    "<ul>\n",
    "<li>Figure out the link, if any, between month and homicide rate.</li>\n",
    "<li>Explore the homicide rate by gender.</li>\n",
    "<li>Explore the rates of other intents, like <code>Accidental</code>, by gender and race.</li>\n",
    "<li>Find out if gun death rates correlate to location and education.</li>\n",
    "</ul>"
   ]
  },
  {
   "cell_type": "markdown",
   "metadata": {},
   "source": [
    "### New to data science and start [here](https://www.dataschool.io/start/)"
   ]
  }
 ],
 "metadata": {
  "kernelspec": {
   "display_name": "Python 3",
   "language": "python",
   "name": "python3"
  },
  "language_info": {
   "codemirror_mode": {
    "name": "ipython",
    "version": 3
   },
   "file_extension": ".py",
   "mimetype": "text/x-python",
   "name": "python",
   "nbconvert_exporter": "python",
   "pygments_lexer": "ipython3",
   "version": "3.6.4"
  }
 },
 "nbformat": 4,
 "nbformat_minor": 2
}
